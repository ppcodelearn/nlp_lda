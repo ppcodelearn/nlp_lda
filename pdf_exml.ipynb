{
 "cells": [
  {
   "cell_type": "code",
   "execution_count": 1,
   "metadata": {},
   "outputs": [],
   "source": [
    "import os"
   ]
  },
  {
   "cell_type": "code",
   "execution_count": 2,
   "metadata": {},
   "outputs": [
    {
     "name": "stdout",
     "output_type": "stream",
     "text": [
      "Current working directory: c:\\Users\\phili\\techlabs\\nlp_delft\n"
     ]
    }
   ],
   "source": [
    "current_directory = os.getcwd()\n",
    "print(\"Current working directory:\", current_directory)"
   ]
  },
  {
   "cell_type": "code",
   "execution_count": 3,
   "metadata": {},
   "outputs": [
    {
     "name": "stdout",
     "output_type": "stream",
     "text": [
      "Contents of folder 'Flowsheet_paper' :\n",
      "Al_rabiah, Abdulrahman_Process_2022.pdf\n",
      "bad_decision.pdf\n",
      "Campos, Bruno_Detailed_2022.pdf\n",
      "Falco, Marcello_Excergettic_2022.pdf\n",
      "Han, Zhenwei_Investigating_2020.pdf\n",
      "He, Renchu_Multi_2023.pdf\n",
      "Kohler, Andrew_Techno_2021.pdf\n",
      "Martinez, Victor_Conceptual_2023.pdf\n",
      "Muazzam, Yusra_Thermo_2022.pdf\n",
      "Mursics, Joszef_Process_2020.pdf\n",
      "Nieminen, Harri_CO2_2019.pdf\n",
      "Penteado, Alberto_Economic_2021.pdf\n",
      "Petrescu, Letitia_Classical_2022.pdf\n",
      "Piotrowski, Wojciech_Integration_2021.pdf\n",
      "Puhar, Jan_Reduction_2021.pdf\n",
      "Ruther, Timm_Production_2023.pdf\n",
      "Sobczak, Joanna_Review_2022.pdf\n",
      "Sornumpol, Ratikorn_Process_2023.pdf\n",
      "Sulgan, Branlslav_Multi_2020.pdf\n",
      "Teh, Sinn_Hybrid_2019.pdf\n",
      "Uresti, Salvador_Techno_2017.pdf\n",
      "Zein, Sharif_Techno_2022.pdf\n"
     ]
    }
   ],
   "source": [
    "folder_name = \"Flowsheet_paper\"  \n",
    "\n",
    "# Join the current working directory with the folder name to get the full path\n",
    "folder_path = os.path.join(os.getcwd(), folder_name)\n",
    "\n",
    "# Check if the folder exists\n",
    "if os.path.exists(folder_path):\n",
    "    # Get the list of files and subfolders in the folder\n",
    "    folder_contents = os.listdir(folder_path)\n",
    "    print(\"Contents of folder '{}' :\".format(folder_name))\n",
    "    for item in folder_contents:\n",
    "        print(item)\n",
    "else:\n",
    "    print(\"Folder '{}' does not exist in the current working directory.\".format(folder_name))"
   ]
  },
  {
   "cell_type": "code",
   "execution_count": 4,
   "metadata": {},
   "outputs": [],
   "source": [
    "import fitz  # PyMuPDF\n",
    "import xml.etree.ElementTree as ET"
   ]
  },
  {
   "cell_type": "code",
   "execution_count": 7,
   "metadata": {},
   "outputs": [],
   "source": [
    "def pdf_to_text(pdf_path):\n",
    "    pdf_document = fitz.open(pdf_path)\n",
    "    text = \"\"\n",
    "\n",
    "    for page_number in range(pdf_document.page_count):\n",
    "        page = pdf_document.load_page(page_number)\n",
    "        text += page.get_text()\n",
    "\n",
    "    pdf_document.close()\n",
    "    return text\n",
    "\n",
    "def text_to_xml(text, xml_path):\n",
    "    root = ET.Element(\"pdf_text\")\n",
    "    root.text = text\n",
    "\n",
    "    tree = ET.ElementTree(root)\n",
    "    tree.write(xml_path, encoding=\"utf-8\", xml_declaration=True)"
   ]
  },
  {
   "cell_type": "code",
   "execution_count": 6,
   "metadata": {},
   "outputs": [
    {
     "name": "stdout",
     "output_type": "stream",
     "text": [
      "Folder 'Flowsheet_xml' created successfully.\n"
     ]
    }
   ],
   "source": [
    "def create_folder(folder_name):\n",
    "    try:\n",
    "        # Use os.makedirs to create the folder along with its parent directories\n",
    "        os.makedirs(folder_name)\n",
    "        print(f\"Folder '{folder_name}' created successfully.\")\n",
    "    except Exception as e:\n",
    "        print(f\"Error creating folder '{folder_name}': {str(e)}\")\n",
    "\n",
    "# Example usage:\n",
    "new_folder_name = \"Flowsheet_xml\"  # Replace with the desired folder name\n",
    "create_folder(new_folder_name)"
   ]
  },
  {
   "cell_type": "code",
   "execution_count": 9,
   "metadata": {},
   "outputs": [
    {
     "name": "stdout",
     "output_type": "stream",
     "text": [
      "Renamed 'Al_rabiah, Abdulrahman_Process_2022.pdf' to 'Al_rabiah, Abdulrahman_Process_2022.xml'.\n",
      "Renamed 'bad_decision.pdf' to 'bad_decision.xml'.\n",
      "Renamed 'Campos, Bruno_Detailed_2022.pdf' to 'Campos, Bruno_Detailed_2022.xml'.\n",
      "Renamed 'Falco, Marcello_Excergettic_2022.pdf' to 'Falco, Marcello_Excergettic_2022.xml'.\n",
      "Renamed 'Han, Zhenwei_Investigating_2020.pdf' to 'Han, Zhenwei_Investigating_2020.xml'.\n",
      "Renamed 'He, Renchu_Multi_2023.pdf' to 'He, Renchu_Multi_2023.xml'.\n",
      "Renamed 'Kohler, Andrew_Techno_2021.pdf' to 'Kohler, Andrew_Techno_2021.xml'.\n",
      "Renamed 'Martinez, Victor_Conceptual_2023.pdf' to 'Martinez, Victor_Conceptual_2023.xml'.\n",
      "Renamed 'Muazzam, Yusra_Thermo_2022.pdf' to 'Muazzam, Yusra_Thermo_2022.xml'.\n",
      "Renamed 'Mursics, Joszef_Process_2020.pdf' to 'Mursics, Joszef_Process_2020.xml'.\n",
      "Renamed 'Nieminen, Harri_CO2_2019.pdf' to 'Nieminen, Harri_CO2_2019.xml'.\n",
      "Renamed 'Penteado, Alberto_Economic_2021.pdf' to 'Penteado, Alberto_Economic_2021.xml'.\n",
      "Renamed 'Petrescu, Letitia_Classical_2022.pdf' to 'Petrescu, Letitia_Classical_2022.xml'.\n",
      "Renamed 'Piotrowski, Wojciech_Integration_2021.pdf' to 'Piotrowski, Wojciech_Integration_2021.xml'.\n",
      "Renamed 'Puhar, Jan_Reduction_2021.pdf' to 'Puhar, Jan_Reduction_2021.xml'.\n",
      "Renamed 'Ruther, Timm_Production_2023.pdf' to 'Ruther, Timm_Production_2023.xml'.\n",
      "Renamed 'Sobczak, Joanna_Review_2022.pdf' to 'Sobczak, Joanna_Review_2022.xml'.\n",
      "Renamed 'Sornumpol, Ratikorn_Process_2023.pdf' to 'Sornumpol, Ratikorn_Process_2023.xml'.\n",
      "Renamed 'Sulgan, Branlslav_Multi_2020.pdf' to 'Sulgan, Branlslav_Multi_2020.xml'.\n",
      "Renamed 'Teh, Sinn_Hybrid_2019.pdf' to 'Teh, Sinn_Hybrid_2019.xml'.\n",
      "Renamed 'Uresti, Salvador_Techno_2017.pdf' to 'Uresti, Salvador_Techno_2017.xml'.\n",
      "Renamed 'Zein, Sharif_Techno_2022.pdf' to 'Zein, Sharif_Techno_2022.xml'.\n"
     ]
    }
   ],
   "source": [
    "# Function to rename PDF files to XML\n",
    "def rename_pdfs_to_xml(folder_path):\n",
    "    for filename in os.listdir(folder_path):\n",
    "        if filename.endswith(\".pdf\"):\n",
    "            # Create a new name by replacing the \".pdf\" extension with \".xml\"\n",
    "            new_filename = os.path.splitext(filename)[0] + \".xml\"\n",
    "\n",
    "            # Build the full paths for the old and new file names\n",
    "            old_file_path = os.path.join(folder_path, filename)\n",
    "            new_file_path = os.path.join(new_folder_name, new_filename)\n",
    "\n",
    "            # Rename the file\n",
    "            try:\n",
    "                extracted_text = pdf_to_text(old_file_path)\n",
    "                text_to_xml(extracted_text, new_file_path)\n",
    "                print(f\"Renamed '{filename}' to '{new_filename}'.\")\n",
    "            except Exception as e:\n",
    "                print(f\"Error renaming '{filename}' to '{new_filename}': {str(e)}\")\n",
    "\n",
    "# Call the function to rename PDF files to XML in the specified folder\n",
    "rename_pdfs_to_xml(folder_path)"
   ]
  },
  {
   "cell_type": "code",
   "execution_count": null,
   "metadata": {},
   "outputs": [],
   "source": []
  }
 ],
 "metadata": {
  "kernelspec": {
   "display_name": "ai_venv",
   "language": "python",
   "name": "python3"
  },
  "language_info": {
   "codemirror_mode": {
    "name": "ipython",
    "version": 3
   },
   "file_extension": ".py",
   "mimetype": "text/x-python",
   "name": "python",
   "nbconvert_exporter": "python",
   "pygments_lexer": "ipython3",
   "version": "3.11.3"
  },
  "orig_nbformat": 4
 },
 "nbformat": 4,
 "nbformat_minor": 2
}
