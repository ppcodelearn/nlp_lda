{
 "cells": [
  {
   "cell_type": "code",
   "execution_count": 10,
   "metadata": {},
   "outputs": [],
   "source": [
    "from chemdataextractor import Document\n",
    "import os\n",
    "import pandas as pd"
   ]
  },
  {
   "cell_type": "code",
   "execution_count": 6,
   "metadata": {},
   "outputs": [],
   "source": [
    "pdf_folder = r'C:\\Users\\phili\\techlabs\\nlp_delft\\Flowsheet_paper'\n",
    "pdf_files = [file for file in os.listdir(pdf_folder) if file.endswith('.pdf')]"
   ]
  },
  {
   "cell_type": "code",
   "execution_count": 7,
   "metadata": {},
   "outputs": [
    {
     "name": "stdout",
     "output_type": "stream",
     "text": [
      "Folder 'raw_csv' already exists.\n"
     ]
    }
   ],
   "source": [
    "folder_name = \"raw_csv\"\n",
    "\n",
    "if not os.path.exists(folder_name):\n",
    "    os.makedirs(folder_name)\n",
    "    print(f\"Folder '{folder_name}' created.\")\n",
    "else:\n",
    "    print(f\"Folder '{folder_name}' already exists.\")"
   ]
  },
  {
   "cell_type": "code",
   "execution_count": 8,
   "metadata": {},
   "outputs": [],
   "source": [
    "rawcsv_dir = r'C:\\Users\\phili\\techlabs\\nlp_delft\\raw_csv'"
   ]
  },
  {
   "cell_type": "code",
   "execution_count": 11,
   "metadata": {},
   "outputs": [],
   "source": [
    "for pdf_file in os.listdir(pdf_folder):\n",
    "\n",
    "    f = open(os.path.join(pdf_folder, pdf_file),'rb')\n",
    "    try:\n",
    "        doc = Document.from_file(f)\n",
    "        ltext = []\n",
    "        for i in range(len(doc.elements)):\n",
    "            ltext.append(str(doc.elements[i]))\n",
    "        df = pd.DataFrame(ltext)\n",
    "        df.to_csv(os.path.join(rawcsv_dir,f'{pdf_file}.csv'))\n",
    "            \n",
    "    except:\n",
    "        pass"
   ]
  },
  {
   "cell_type": "code",
   "execution_count": null,
   "metadata": {},
   "outputs": [],
   "source": []
  }
 ],
 "metadata": {
  "kernelspec": {
   "display_name": "py_36",
   "language": "python",
   "name": "python3"
  },
  "language_info": {
   "codemirror_mode": {
    "name": "ipython",
    "version": 3
   },
   "file_extension": ".py",
   "mimetype": "text/x-python",
   "name": "python",
   "nbconvert_exporter": "python",
   "pygments_lexer": "ipython3",
   "version": "3.6.13"
  },
  "orig_nbformat": 4
 },
 "nbformat": 4,
 "nbformat_minor": 2
}
